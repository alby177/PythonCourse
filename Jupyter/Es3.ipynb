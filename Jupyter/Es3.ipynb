{
 "cells": [
  {
   "cell_type": "markdown",
   "metadata": {},
   "source": [
    "Creare una lista che mi risponde None nel caso in cui l'indice che si ricerca non esista"
   ]
  },
  {
   "cell_type": "code",
   "execution_count": 44,
   "metadata": {},
   "outputs": [
    {
     "name": "stdout",
     "output_type": "stream",
     "text": [
      "56\n"
     ]
    }
   ],
   "source": [
    "class superLista(list):\n",
    "    \n",
    "    def __getitem__(self, key): # overload dell'operatore lista[n]\n",
    "        try:\n",
    "            val = list.__getitem__(self, key) # se tutto funziona, prendo il metodo getitem dalla classe lista da cui eredito\n",
    "            #val = super().__getitem__(key) # potrei anche fare così visto che eredito dal padre, stavolta però mi riferisco al metodo dell'oggetto padre quindi non serve il self \n",
    "        except IndexError: # in caso di errore IndexError (indice che va oltre la lunghezza della lista)\n",
    "            val = None\n",
    "            print(\"Error\")\n",
    "        return val\n",
    "\n",
    "prova = superLista()\n",
    "prova.extend([12 , 43 ,56])\n",
    "print(prova[2])"
   ]
  },
  {
   "cell_type": "code",
   "execution_count": 47,
   "metadata": {},
   "outputs": [
    {
     "name": "stdout",
     "output_type": "stream",
     "text": [
      "Init del padre\n",
      "Init del Figlio\n"
     ]
    }
   ],
   "source": [
    "# chiamo l'init del padre dal figlio solo se ci sono il giusto numero di parametri\n",
    "class Padre():\n",
    "    def __init__(self, num):\n",
    "        print(\"Init del padre\")\n",
    "\n",
    "class Figlio(Padre):\n",
    "    def __init__(self, nome, *args, **kargs):\n",
    "        super().__init__(*args, **kargs)\n",
    "        print(\"Init del Figlio\")\n",
    "        \n",
    "x = Figlio(23, {'Ciao': 12})"
   ]
  },
  {
   "cell_type": "code",
   "execution_count": 71,
   "metadata": {},
   "outputs": [
    {
     "name": "stdout",
     "output_type": "stream",
     "text": [
      "<class 'generator'> ---> <generator object <genexpr> at 0x0000000005695C50>\n",
      "<class 'generator'> ---> <generator object <genexpr> at 0x0000000005695570>\n"
     ]
    }
   ],
   "source": [
    "#differenze tra iteratore e generatore, fondamentalmente un generatore ricorda il suo stato per cui si consuma ogni istruzione fino a quando non finisce di eseguire\n",
    "# a quel punto ne dovrò creare un altro (anche con lo stesso nome, ma uno nuovo)\n",
    "# iteratore perchè ha le quadre \n",
    "zap1 = [v for v in range(10, 0, -1)]\n",
    "print(\"{type_} ---> {var}\".format(var = zap, type_=type(zap)))\n",
    "zap = (v for v in range(10, 0, -1))\n",
    "print(\"{type_} ---> {var}\".format(var = zap, type_=type(zap)))"
   ]
  },
  {
   "cell_type": "markdown",
   "metadata": {},
   "source": [
    "Come si vede sopra, la lista viene creata per intero tramite l'iteratore mentre il generatore crea poi il dato nel momento in cui viene chiesto. Devo usarlo in un ciclo for oppure attraverso il comando next(zap) per fargli creare il dato"
   ]
  },
  {
   "cell_type": "code",
   "execution_count": 72,
   "metadata": {},
   "outputs": [
    {
     "data": {
      "text/plain": [
       "10"
      ]
     },
     "execution_count": 72,
     "metadata": {},
     "output_type": "execute_result"
    }
   ],
   "source": [
    "next(zap)"
   ]
  },
  {
   "cell_type": "code",
   "execution_count": 73,
   "metadata": {},
   "outputs": [
    {
     "data": {
      "text/plain": [
       "9"
      ]
     },
     "execution_count": 73,
     "metadata": {},
     "output_type": "execute_result"
    }
   ],
   "source": [
    "next(zap)"
   ]
  },
  {
   "cell_type": "code",
   "execution_count": 74,
   "metadata": {},
   "outputs": [
    {
     "data": {
      "text/plain": [
       "[8, 7, 6, 5, 4, 3, 2, 1]"
      ]
     },
     "execution_count": 74,
     "metadata": {},
     "output_type": "execute_result"
    }
   ],
   "source": [
    "[i for i in zap]\n",
    "#gli dico di iterare sul generatore"
   ]
  },
  {
   "cell_type": "markdown",
   "metadata": {},
   "source": [
    "Il generatore viene usato fino a quando non è consumato"
   ]
  },
  {
   "cell_type": "code",
   "execution_count": 75,
   "metadata": {},
   "outputs": [
    {
     "data": {
      "text/plain": [
       "[]"
      ]
     },
     "execution_count": 75,
     "metadata": {},
     "output_type": "execute_result"
    }
   ],
   "source": [
    "[i for i in zap]"
   ]
  },
  {
   "cell_type": "markdown",
   "metadata": {},
   "source": [
    "Riusandolo mi dice che il generatore è consumato per cui non mi da più niente in output"
   ]
  },
  {
   "cell_type": "code",
   "execution_count": 66,
   "metadata": {},
   "outputs": [
    {
     "data": {
      "text/plain": [
       "[1, 2, 3, 4, 5, 6, 7, 8, 9, 10]"
      ]
     },
     "execution_count": 66,
     "metadata": {},
     "output_type": "execute_result"
    }
   ],
   "source": [
    "class classeScema():\n",
    "    def __iter__(self):\n",
    "        self.__n = 0 # definisco che nel momento in cui creo l'iteratore lui parte da 0\n",
    "        return self # l'iteratore restituisce la classe stessa (Cosa brutta da fare)\n",
    "    def __next__(self):\n",
    "        if self.__n >= 10: # se supero il numero 10 allora alzo l'eccezione\n",
    "            raise StopIteration\n",
    "        self.__n += 1\n",
    "        return self.__n\n",
    "    \n",
    "# il for usa la funzione next all'interno della classe classeScema per cui ho overloadato l'operatore next in modo che faccia il + 1 a meno che non superi il numero 10    \n",
    "[x for x in classeScema()]"
   ]
  },
  {
   "cell_type": "markdown",
   "metadata": {},
   "source": [
    "# ***Esercizio***\n",
    "\n",
    "Scrivere una classe Primes a cui passo un numero e lei mi va a calcolare tutti i numeri primi fermandosi dopo un numero di numeri primi trovati pari a quello inserito. Stampa poi tutti i numeri calcolati tramite l'iteratore dell'oggetto"
   ]
  },
  {
   "cell_type": "code",
   "execution_count": 257,
   "metadata": {},
   "outputs": [
    {
     "data": {
      "text/plain": [
       "[2, 3, 5, 7, 11, 13, 17, 19, 23, 29]"
      ]
     },
     "execution_count": 257,
     "metadata": {},
     "output_type": "execute_result"
    }
   ],
   "source": [
    "class Primes():\n",
    "    def __init__(self):\n",
    "        self.__primes = [2]\n",
    "    def __getitem__(self, index):\n",
    "        try:\n",
    "            if self.__primes[index] != None:\n",
    "                return self.__primes[index - 1]\n",
    "        except IndexError:\n",
    "            n = self.__primes[len(self.__primes) - 1]\n",
    "            while len(self.__primes) <= index:\n",
    "                n += 1\n",
    "                if self.__calcolaPrimo(n):\n",
    "                    self.__primes.append(n)          \n",
    "            return self.__primes[index - 1]\n",
    "    def __call__(self, index):\n",
    "        n = self.__primes[len(self.__primes) - 1]\n",
    "        while len(self.__primes) < index:\n",
    "            n += 1\n",
    "            if self.__calcolaPrimo(n):\n",
    "                self.__primes.append(n)\n",
    "        return self.__primes[:index]\n",
    "    def __iter__(self):\n",
    "        pass\n",
    "    def __calcolaPrimo(self, num):\n",
    "        nonPrimo = False\n",
    "        for i in range(2, num):\n",
    "            if num % i == 0:\n",
    "                nonPrimo = True\n",
    "                break\n",
    "        if nonPrimo == False:\n",
    "            return True    \n",
    "       \n",
    "    \n",
    "x = Primes()\n",
    "x(10)"
   ]
  },
  {
   "cell_type": "code",
   "execution_count": 258,
   "metadata": {},
   "outputs": [
    {
     "data": {
      "text/plain": [
       "[2, 3, 5, 7, 11, 13, 17, 19, 23, 29, 31, 37, 41, 43, 47, 53, 59, 61, 67, 71]"
      ]
     },
     "execution_count": 258,
     "metadata": {},
     "output_type": "execute_result"
    }
   ],
   "source": [
    "x(20)"
   ]
  },
  {
   "cell_type": "code",
   "execution_count": 259,
   "metadata": {},
   "outputs": [
    {
     "data": {
      "text/plain": [
       "71"
      ]
     },
     "execution_count": 259,
     "metadata": {},
     "output_type": "execute_result"
    }
   ],
   "source": [
    "x[20]"
   ]
  },
  {
   "cell_type": "code",
   "execution_count": 260,
   "metadata": {},
   "outputs": [
    {
     "data": {
      "text/plain": [
       "37"
      ]
     },
     "execution_count": 260,
     "metadata": {},
     "output_type": "execute_result"
    }
   ],
   "source": [
    "x[12]"
   ]
  },
  {
   "cell_type": "code",
   "execution_count": 261,
   "metadata": {},
   "outputs": [
    {
     "data": {
      "text/plain": [
       "[2, 3, 5, 7, 11, 13, 17, 19, 23, 29, 31, 37]"
      ]
     },
     "execution_count": 261,
     "metadata": {},
     "output_type": "execute_result"
    }
   ],
   "source": [
    "x(12)"
   ]
  },
  {
   "cell_type": "code",
   "execution_count": null,
   "metadata": {},
   "outputs": [],
   "source": []
  }
 ],
 "metadata": {
  "kernelspec": {
   "display_name": "Python 3",
   "language": "python",
   "name": "python3"
  },
  "language_info": {
   "codemirror_mode": {
    "name": "ipython",
    "version": 3
   },
   "file_extension": ".py",
   "mimetype": "text/x-python",
   "name": "python",
   "nbconvert_exporter": "python",
   "pygments_lexer": "ipython3",
   "version": "3.6.4"
  }
 },
 "nbformat": 4,
 "nbformat_minor": 2
}
