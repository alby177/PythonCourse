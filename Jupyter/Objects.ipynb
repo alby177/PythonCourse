{
 "cells": [
  {
   "cell_type": "code",
   "execution_count": 69,
   "metadata": {},
   "outputs": [],
   "source": [
    "class Prova:\n",
    "    \"\"\"Classe di prova\"\"\"\n",
    "    foo = None\n",
    "    def __init__(self, foo = 0):\n",
    "        self.foo = foo\n",
    "        if foo: # Se non do un valore a foo nell'oggetto che creo, non mi permette di eseguire il metodo print stuff perchè Baz non è definita\n",
    "            self.baz = 12\n",
    "    def printStuff(self): # qui si deve sempre mettere self come argomento delle funzioni definite all'interno della classe\n",
    "        print(\"Baz is:\", self.baz)\n",
    "    def runChange(self):\n",
    "        print(\"Original function\")"
   ]
  },
  {
   "cell_type": "code",
   "execution_count": 29,
   "metadata": {},
   "outputs": [
    {
     "name": "stdout",
     "output_type": "stream",
     "text": [
      "None\n"
     ]
    }
   ],
   "source": [
    "print(Prova.foo)"
   ]
  },
  {
   "cell_type": "code",
   "execution_count": 64,
   "metadata": {},
   "outputs": [
    {
     "name": "stdout",
     "output_type": "stream",
     "text": [
      "x: 0\n",
      "y: 123\n"
     ]
    }
   ],
   "source": [
    "x = Prova()\n",
    "y = Prova(123)\n",
    "print(\"x:\", x.foo)\n",
    "print(\"y:\", y.foo)"
   ]
  },
  {
   "cell_type": "code",
   "execution_count": 35,
   "metadata": {},
   "outputs": [
    {
     "ename": "AttributeError",
     "evalue": "'Prova' object has no attribute 'baz'",
     "output_type": "error",
     "traceback": [
      "\u001b[1;31m---------------------------------------------------------------------------\u001b[0m",
      "\u001b[1;31mAttributeError\u001b[0m                            Traceback (most recent call last)",
      "\u001b[1;32m<ipython-input-35-56cf7a10ef98>\u001b[0m in \u001b[0;36m<module>\u001b[1;34m()\u001b[0m\n\u001b[1;32m----> 1\u001b[1;33m \u001b[0mx\u001b[0m\u001b[1;33m.\u001b[0m\u001b[0mprintStuff\u001b[0m\u001b[1;33m(\u001b[0m\u001b[1;33m)\u001b[0m\u001b[1;33m\u001b[0m\u001b[0m\n\u001b[0m",
      "\u001b[1;32m<ipython-input-33-10ae1f3e26a0>\u001b[0m in \u001b[0;36mprintStuff\u001b[1;34m(self)\u001b[0m\n\u001b[0;32m      7\u001b[0m             \u001b[0mself\u001b[0m\u001b[1;33m.\u001b[0m\u001b[0mbaz\u001b[0m \u001b[1;33m=\u001b[0m \u001b[1;36m12\u001b[0m\u001b[1;33m\u001b[0m\u001b[0m\n\u001b[0;32m      8\u001b[0m     \u001b[1;32mdef\u001b[0m \u001b[0mprintStuff\u001b[0m\u001b[1;33m(\u001b[0m\u001b[0mself\u001b[0m\u001b[1;33m)\u001b[0m\u001b[1;33m:\u001b[0m\u001b[1;33m\u001b[0m\u001b[0m\n\u001b[1;32m----> 9\u001b[1;33m         \u001b[0mprint\u001b[0m\u001b[1;33m(\u001b[0m\u001b[1;34m\"Baz is:\"\u001b[0m\u001b[1;33m,\u001b[0m \u001b[0mself\u001b[0m\u001b[1;33m.\u001b[0m\u001b[0mbaz\u001b[0m\u001b[1;33m)\u001b[0m\u001b[1;33m\u001b[0m\u001b[0m\n\u001b[0m",
      "\u001b[1;31mAttributeError\u001b[0m: 'Prova' object has no attribute 'baz'"
     ]
    }
   ],
   "source": [
    "x.printStuff()"
   ]
  },
  {
   "cell_type": "code",
   "execution_count": 36,
   "metadata": {},
   "outputs": [
    {
     "name": "stdout",
     "output_type": "stream",
     "text": [
      "Baz is: 12\n"
     ]
    }
   ],
   "source": [
    "y.printStuff()"
   ]
  },
  {
   "cell_type": "code",
   "execution_count": 60,
   "metadata": {},
   "outputs": [],
   "source": [
    "def fun():\n",
    "    print(\"New function added\")"
   ]
  },
  {
   "cell_type": "code",
   "execution_count": 70,
   "metadata": {},
   "outputs": [
    {
     "name": "stdout",
     "output_type": "stream",
     "text": [
      "New function added\n",
      "Original function\n"
     ]
    }
   ],
   "source": [
    "x = Prova()\n",
    "y = Prova()\n",
    "x.runChange = fun\n",
    "x.runChange()\n",
    "y.runChange()\n",
    "# In questo modo ho cambiato la funzione runChange all'interno dell'oggetto x, non all'interno della classe prova. Quindi usando y.runChange mi fa la funzione originale della\n",
    "# classe prova"
   ]
  },
  {
   "cell_type": "code",
   "execution_count": 71,
   "metadata": {},
   "outputs": [
    {
     "name": "stdout",
     "output_type": "stream",
     "text": [
      "New class function added\n",
      "New class function added\n"
     ]
    }
   ],
   "source": [
    "def fun2(self):\n",
    "    print(\"New class function added\")\n",
    "Prova.runChange = fun2\n",
    "# in questo modo Cambio direttamente il metodo all'interno della classe dandogli il valore della funzione fun2. Ho creato una nuova funzione perchè\n",
    "# essendo all'interno della classe deve avere il parametro self altrimenti non viene eseguita\n",
    "x = Prova()\n",
    "y = Prova(123)\n",
    "x.runChange()\n",
    "y.runChange()"
   ]
  },
  {
   "cell_type": "markdown",
   "metadata": {},
   "source": [
    "Definizione classe con getter e setter (non chiamati così in python)"
   ]
  },
  {
   "cell_type": "code",
   "execution_count": 145,
   "metadata": {},
   "outputs": [],
   "source": [
    "class Prova2():\n",
    "    \"\"\"Classe di prova numero 2\"\"\"\n",
    "    def __init__(self, foo):\n",
    "        self.__foo = foo # il modo più vicino ad avere una variabile privata in python\n",
    "    @property\n",
    "    def foo(self):\n",
    "        print(\"Getter\")\n",
    "        return self.__foo # faccio il getter per la variabile pseudo nascosta\n",
    "    @foo.setter\n",
    "    def foo(self, value):\n",
    "        if value is not None:\n",
    "            print(\"Setter\")\n",
    "            self.__foo = value # setter della variabile pseudo nascosta\n",
    "        else:\n",
    "            print(\"Deleting\")\n",
    "            del self.__foo\n",
    "    def __bool__(self): # inserisce il comportamento da booleano nel caso si compari l'oggetto\n",
    "        try:\n",
    "            self.__foo\n",
    "        except:\n",
    "            return False\n",
    "        return True\n",
    "    def __str__(self):\n",
    "        if self:\n",
    "            return \"Prova({:,})\".format(self.__foo)\n",
    "        else:\n",
    "            return \"Prova2()\""
   ]
  },
  {
   "cell_type": "code",
   "execution_count": 93,
   "metadata": {},
   "outputs": [],
   "source": [
    "ogg = Prova2(12)\n",
    "ogg._Prova__foo = 23\n",
    "# Questo è l'unico modo per poter accedere ad una variabiele che è stata creata con il doppio underscore. Così diventa complicato accedere alla varaibile, in modo\n",
    "# che sia più semplice accedere tramite getter e setter e quindi sia tutto più al sicuro"
   ]
  },
  {
   "cell_type": "code",
   "execution_count": 94,
   "metadata": {},
   "outputs": [
    {
     "name": "stdout",
     "output_type": "stream",
     "text": [
      "Setter\n"
     ]
    }
   ],
   "source": [
    "ogg.foo = 21"
   ]
  },
  {
   "cell_type": "code",
   "execution_count": 95,
   "metadata": {},
   "outputs": [
    {
     "name": "stdout",
     "output_type": "stream",
     "text": [
      "Getter\n"
     ]
    },
    {
     "data": {
      "text/plain": [
       "21"
      ]
     },
     "execution_count": 95,
     "metadata": {},
     "output_type": "execute_result"
    }
   ],
   "source": [
    "ogg.foo"
   ]
  },
  {
   "cell_type": "code",
   "execution_count": 162,
   "metadata": {},
   "outputs": [
    {
     "name": "stdout",
     "output_type": "stream",
     "text": [
      "Setter\n",
      "True\n",
      "__foo ---> Prova(12)\n"
     ]
    }
   ],
   "source": [
    "ogg = Prova2(0)\n",
    "ogg.foo = 12\n",
    "if ogg:\n",
    "    print(\"True\")\n",
    "else:\n",
    "    print(\"False\")\n",
    "print(\"__foo ---> {}\".format(ogg))\n",
    "# verifica se il valore __foo verifica la condizione oppure no, quindi se il numero contenuto è maggiore di 0"
   ]
  },
  {
   "cell_type": "markdown",
   "metadata": {},
   "source": [
    "Creare oggetto data"
   ]
  },
  {
   "cell_type": "code",
   "execution_count": 1,
   "metadata": {},
   "outputs": [],
   "source": [
    "class Anniversario():\n",
    "    \n",
    "    # Tupla di tuple contenente i mesi e i giorni relativi. Si usano le tuple perchè permettono di avere dati immutabili all'interno\n",
    "    MESI = (('Gennaio', 31), ('Febbraio', 28), ('Marzo', 31), ('Aprile', 30), ('Maggio', 31), ('Giugno', 30), ('Luglio', 31), ('Agosto', 31), ('Settembre', 30), ('Ottobre', 31), \n",
    "            ('Novembre', 30), ('Dicembre', 31))\n",
    "   \n",
    "    \n",
    "    def __init__(self):\n",
    "        self.__giorno = None\n",
    "        self.__mese = None\n",
    "        self.__anno = None\n",
    "    @property\n",
    "    def data(self): #getter\n",
    "        if self.__giorno is not None and self.__mese is not None and self.__anno is not None:\n",
    "            print(\"The set date is: {} - {} - {}\".format(self.__giorno, self.__mese, self.__anno))\n",
    "        else:\n",
    "            print(\"Data is not set\")\n",
    "    @data.setter # setta la data nelle varaibili interne, fa anche i controlli sull'integrità della data\n",
    "    def data(self, dataInserita):\n",
    "        meseFound = False\n",
    "        g, m, a = dataInserita.split('-') # splitta la stringa che gli passo in pezzi usando il trattino come divisore\n",
    "        g = int(g) # cast ad int della stringa del giorno\n",
    "        a = int(a) # cast ad int della stringa dell'anno\n",
    "        i = 0\n",
    "        j = 0\n",
    "        for i, j in self.MESI: # Questi iteratori mi permettono di scorreere la tupla MESI, l'iteratore i restiuisce i mesi mentre j i giorni relativi al mese\n",
    "            if i == m: # se trova il mese all'interno della tupla MESI\n",
    "                meseFound = True\n",
    "                if a % 4 == 0 and (a%100 > 0 or a%400 == 0) and i == 'Febbraio': # verifica che l'anno sia bisestile e che il mese in corso sia febbraio\n",
    "                    j = 29 # setta i giorni massimi a 29\n",
    "                if g > j or g <= 0: # controlla se il giorno inserito eccede il massimo numero di giorni settato nella tupla MESI\n",
    "                        print(\"Day insertion Error\")                       \n",
    "                else:        \n",
    "                    self.__giorno = g\n",
    "                break # esce dal ciclo in ogni caso perchè non serve cercare oltre una volta trovato il mese, sicuramente non si ripete\n",
    "        if meseFound == True:\n",
    "            self.__mese = m\n",
    "        else:\n",
    "            print(\"Month insertion Error\")\n",
    "        if(self.__giorno is not None and self.__mese is not None):\n",
    "            self.__anno = a\n",
    "    def __bool__(self): # overload dell'operatore confronto, se la data è settata restituisce True\n",
    "        return self.__anno is not None\n",
    "    def __lt__(self, other): # overload dell'operatore <\n",
    "        # per il mese faccio un ricerca sulla tupla MESI, salvo tutti i mesi su una lista (tramite le parentesi quadre) e poi cerca il numero del mese tramite l'index (serve\n",
    "        # convertire il mese da testuale a numerico). Tengo in considerazione nella lista solo l'iteratore k che gira sui mesi, c'è anche l'iteratore _ che gira sui giorni\n",
    "        # ma non viene considerato  \n",
    "        s = self.__anno * 10000 + ([k for k, _ in self.MESI].index(self.__mese) + 1) * 1000 + self.__giorno\n",
    "        o = other.__anno * 10000 +([l for l, _ in self.MESI].index(other.__mese) + 1) * 1000 + other.__giorno\n",
    "        return s < o\n",
    "    def __eq__(self, other): # overload dell'operatoe ==\n",
    "        if (self.__anno == other.__anno and self.__mese == other.__mese and self.__giorno == other.__giorno):\n",
    "            return True\n",
    "        else:\n",
    "            return False\n",
    "    def __le__(self, other): # overload dell'operatoe <=, uso sempre solo gli operatori base overloadati\n",
    "        return self < other or self == other\n",
    "    def __gt__(self, other): # overload dell'operatore >\n",
    "        return not self < other\n",
    "    def __ge__(self, other): # overload dell'operatoe >=\n",
    "        return not self < other or self == other\n",
    "    def __ne__(self,other): # overload dell'operatoe !=\n",
    "        return not self == other\n",
    "    def _incrAnno(self): # funzione per incrementare l'anno\n",
    "        self.__anno += 1\n",
    "    def _incrMese(self): # funzione per incrementare il mese (con relativi controlli)\n",
    "        temp = [k for k, _ in self.MESI].index(self.__mese) # conversione del nome del mese in numero\n",
    "        temp += 1\n",
    "        if temp > 11:\n",
    "            temp = 0\n",
    "            self._incrAnno()\n",
    "        self.__mese = self.MESI[temp][0] # salvo il nome del mese che viene riconvertito da numero a stringa testuale\n",
    "    def _incrGiorno(self):\n",
    "        self.__giorno += 1\n",
    "        for i, j in self.MESI:\n",
    "            if i == self.__mese:\n",
    "                if self.__anno % 4 == 0 and (self.__anno %100 > 0 or self.__anno%400 == 0) and i == 'Febbraio':\n",
    "                    j = 29\n",
    "                if self.__giorno > j:\n",
    "                    self.__giorno = 1\n",
    "                    self._incrMese()          \n",
    "    def __add__(self, giorni):\n",
    "        x = 0\n",
    "        for x in range(giorni):\n",
    "            self._incrGiorno()"
   ]
  },
  {
   "cell_type": "code",
   "execution_count": 342,
   "metadata": {},
   "outputs": [
    {
     "name": "stdout",
     "output_type": "stream",
     "text": [
      "The set date is: 31 - Ottobre - 2015\n"
     ]
    }
   ],
   "source": [
    "giornata = Anniversario();\n",
    "giornata.data = '31-Ottobre-2015'\n",
    "giornata.data\n",
    "natale = Anniversario();\n",
    "natale.data = '25-Dicembre-2012'"
   ]
  },
  {
   "cell_type": "code",
   "execution_count": 321,
   "metadata": {},
   "outputs": [
    {
     "name": "stdout",
     "output_type": "stream",
     "text": [
      "Ok\n"
     ]
    }
   ],
   "source": [
    "if giornata:\n",
    "    print(\"Ok\")\n",
    "else:\n",
    "    print(\"No\")"
   ]
  },
  {
   "cell_type": "code",
   "execution_count": 343,
   "metadata": {},
   "outputs": [
    {
     "data": {
      "text/plain": [
       "False"
      ]
     },
     "execution_count": 343,
     "metadata": {},
     "output_type": "execute_result"
    }
   ],
   "source": [
    "giornata <= natale"
   ]
  },
  {
   "cell_type": "code",
   "execution_count": 347,
   "metadata": {},
   "outputs": [
    {
     "data": {
      "text/plain": [
       "True"
      ]
     },
     "execution_count": 347,
     "metadata": {},
     "output_type": "execute_result"
    }
   ],
   "source": [
    "giornata = Anniversario();\n",
    "giornata.data = '31-Ottobre-2015'\n",
    "giornata2 = Anniversario();\n",
    "giornata2.data = '31-Ottobre-2015'\n",
    "giornata == giornata2"
   ]
  },
  {
   "cell_type": "code",
   "execution_count": 349,
   "metadata": {},
   "outputs": [
    {
     "data": {
      "text/plain": [
       "True"
      ]
     },
     "execution_count": 349,
     "metadata": {},
     "output_type": "execute_result"
    }
   ],
   "source": [
    "giornata = Anniversario();\n",
    "giornata.data = '31-Ottobre-2015'\n",
    "giornata2 = Anniversario();\n",
    "giornata2.data = '31-Ottobre-2015'\n",
    "giornata <= giornata2"
   ]
  },
  {
   "cell_type": "code",
   "execution_count": 355,
   "metadata": {},
   "outputs": [
    {
     "data": {
      "text/plain": [
       "True"
      ]
     },
     "execution_count": 355,
     "metadata": {},
     "output_type": "execute_result"
    }
   ],
   "source": [
    "giornata = Anniversario();\n",
    "giornata.data = '31-Ottobre-2015'\n",
    "giornata2 = Anniversario();\n",
    "giornata2.data = '21-Febbraio-2018'\n",
    "giornata2 > giornata"
   ]
  },
  {
   "cell_type": "code",
   "execution_count": 362,
   "metadata": {},
   "outputs": [
    {
     "data": {
      "text/plain": [
       "True"
      ]
     },
     "execution_count": 362,
     "metadata": {},
     "output_type": "execute_result"
    }
   ],
   "source": [
    "giornata = Anniversario();\n",
    "giornata.data = '31-Ottobre-2015'\n",
    "giornata2 = Anniversario();\n",
    "giornata2.data = '31-Ottobre-2018'\n",
    "giornata2 >= giornata"
   ]
  },
  {
   "cell_type": "code",
   "execution_count": 365,
   "metadata": {},
   "outputs": [
    {
     "data": {
      "text/plain": [
       "False"
      ]
     },
     "execution_count": 365,
     "metadata": {},
     "output_type": "execute_result"
    }
   ],
   "source": [
    "giornata = Anniversario();\n",
    "giornata.data = '31-Ottobre-2015'\n",
    "giornata2 = Anniversario();\n",
    "giornata2.data = '31-Ottobre-2015'\n",
    "giornata2 != giornata"
   ]
  },
  {
   "cell_type": "code",
   "execution_count": 5,
   "metadata": {},
   "outputs": [
    {
     "name": "stdout",
     "output_type": "stream",
     "text": [
      "The set date is: 29 - Febbraio - 2016\n"
     ]
    }
   ],
   "source": [
    "dataSbagliata = Anniversario()\n",
    "dataSbagliata.data = '28-Febbraio-2016'\n",
    "dataSbagliata + 1\n",
    "dataSbagliata.data"
   ]
  },
  {
   "cell_type": "code",
   "execution_count": null,
   "metadata": {},
   "outputs": [],
   "source": []
  }
 ],
 "metadata": {
  "kernelspec": {
   "display_name": "Python 3",
   "language": "python",
   "name": "python3"
  },
  "language_info": {
   "codemirror_mode": {
    "name": "ipython",
    "version": 3
   },
   "file_extension": ".py",
   "mimetype": "text/x-python",
   "name": "python",
   "nbconvert_exporter": "python",
   "pygments_lexer": "ipython3",
   "version": "3.6.4"
  }
 },
 "nbformat": 4,
 "nbformat_minor": 2
}
