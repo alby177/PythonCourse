{
 "cells": [
  {
   "cell_type": "code",
   "execution_count": 7,
   "metadata": {},
   "outputs": [],
   "source": [
    "def safeKey(dizionario, chiave):\n",
    "    \"\"\"Ritorna il valore legato alla chiave se la chiave passata come parametro esiste.\n",
    "    Se la chiave non esiste allora il valore viene considerato nullo e appare un messaggio di errore\n",
    "    \"\"\"\n",
    "    try:\n",
    "        val = dizionario[chiave]\n",
    "    except KeyError:\n",
    "        val = None\n",
    "        print(\"Wrong key inserted\")\n",
    "    return val"
   ]
  },
  {
   "cell_type": "code",
   "execution_count": 3,
   "metadata": {},
   "outputs": [],
   "source": [
    "foo = {'Alberto': 25}"
   ]
  },
  {
   "cell_type": "code",
   "execution_count": 6,
   "metadata": {},
   "outputs": [
    {
     "name": "stdout",
     "output_type": "stream",
     "text": [
      "Wrong key inserted\n"
     ]
    }
   ],
   "source": [
    "safeKey(foo, 'Gianni')"
   ]
  },
  {
   "cell_type": "code",
   "execution_count": 8,
   "metadata": {},
   "outputs": [],
   "source": [
    "import sys\n",
    "#Importa il modulo sys"
   ]
  },
  {
   "cell_type": "code",
   "execution_count": 11,
   "metadata": {},
   "outputs": [
    {
     "name": "stderr",
     "output_type": "stream",
     "text": [
      "Ciao sono un messaggio di errore\n"
     ]
    }
   ],
   "source": [
    "print(\"Ciao sono un messaggio di errore\", file=sys.stderr)\n",
    "#mi permette di scrivere sul visualizzatore di errori invece che sull stdout"
   ]
  },
  {
   "cell_type": "markdown",
   "metadata": {},
   "source": [
    "#Funzione per prendere testo da internet e analizzarlo.\n",
    "Prendo il file da internet, estraggo il testo e poi dopo lo analizzo. Si tenta di farlo tramite un generatore che prende solo le parole che servono e ne fa l'analisi senza salvare grandi quantità di dati"
   ]
  },
  {
   "cell_type": "code",
   "execution_count": 13,
   "metadata": {},
   "outputs": [],
   "source": [
    "from collections import Counter\n",
    "import urllib.request"
   ]
  },
  {
   "cell_type": "code",
   "execution_count": 30,
   "metadata": {},
   "outputs": [],
   "source": [
    "DE_PROFUNDIS = \"http://www.gutenberg.org/cache/epub/921/pg921.txt\""
   ]
  },
  {
   "cell_type": "code",
   "execution_count": null,
   "metadata": {},
   "outputs": [],
   "source": [
    "req = urllib.request.urlopen(DE_PROFUNDIS)\n",
    "#Richiede l'apertura del URL che viene specificata"
   ]
  },
  {
   "cell_type": "code",
   "execution_count": null,
   "metadata": {},
   "outputs": [],
   "source": [
    "line = req.readline()\n",
    "#Devo convertirla in stringa perchè me lo passa in byte\n",
    "stringa = str(line, 'utf8')\n",
    "print(stringa.split())\n",
    "#la splitto in modo di costituire una lista con tutte le parole"
   ]
  },
  {
   "cell_type": "code",
   "execution_count": 37,
   "metadata": {},
   "outputs": [],
   "source": [
    "def wwwgen(url):\n",
    "    \"\"\"Generatore che mi permette di accedere al testo e leggere il testo riga per riga fino a quando non troa vpiù una riga.\n",
    "    Ogni riga viene poi ritornata tramite yield in modo che le righe vengano analizzate on the fly per cui una alla volta, solo quando vengono richiesta tramite i'iteratore\n",
    "    del counter. Quindi non è che prima mi fa il cilo andandomi a salvare ogni riga, come farebbe con il return, ma viene salvata solo ogni volta che la riga viene richiesta. \n",
    "    \"\"\"\n",
    "    import irllib.request\n",
    "    req = urllib.request.urlopen(url)\n",
    "    while True:\n",
    "        line = req.readline()\n",
    "        if not line:\n",
    "            break\n",
    "        stringa = str(line, 'utf8')\n",
    "        for s in stringa.split():\n",
    "            yield s.upper()"
   ]
  },
  {
   "cell_type": "code",
   "execution_count": 34,
   "metadata": {},
   "outputs": [],
   "source": [
    "cnt = Counter(wwwgen(DE_PROFUNDIS))"
   ]
  },
  {
   "cell_type": "code",
   "execution_count": 36,
   "metadata": {},
   "outputs": [
    {
     "data": {
      "text/plain": [
       "[('THE', 1243),\n",
       " ('OF', 922),\n",
       " ('AND', 655),\n",
       " ('TO', 629),\n",
       " ('IN', 424),\n",
       " ('I', 397),\n",
       " ('THAT', 385),\n",
       " ('A', 381),\n",
       " ('IS', 370),\n",
       " ('IT', 251)]"
      ]
     },
     "execution_count": 36,
     "metadata": {},
     "output_type": "execute_result"
    }
   ],
   "source": [
    "cnt.most_common(10)"
   ]
  },
  {
   "cell_type": "markdown",
   "metadata": {},
   "source": [
    "PICKLE MODULE"
   ]
  },
  {
   "cell_type": "code",
   "execution_count": 38,
   "metadata": {},
   "outputs": [],
   "source": [
    "import pickle"
   ]
  },
  {
   "cell_type": "code",
   "execution_count": 39,
   "metadata": {},
   "outputs": [],
   "source": [
    "pickle.dump(cnt, open(\"file.p\", \"wb\"))\n",
    "#Il file non deve essere necessariamente .p ma meglio così\n",
    "#Variabile cnt salvata su file "
   ]
  },
  {
   "cell_type": "code",
   "execution_count": 43,
   "metadata": {},
   "outputs": [],
   "source": [
    "cntCopia = pickle.load(open(\"file.p\", \"rb\"))\n",
    "#Dati della variabile cnt caricata di nuovo e dati salvati su cnt2"
   ]
  },
  {
   "cell_type": "code",
   "execution_count": 42,
   "metadata": {},
   "outputs": [
    {
     "data": {
      "text/plain": [
       "[('THE', 1243),\n",
       " ('OF', 922),\n",
       " ('AND', 655),\n",
       " ('TO', 629),\n",
       " ('IN', 424),\n",
       " ('I', 397),\n",
       " ('THAT', 385),\n",
       " ('A', 381),\n",
       " ('IS', 370),\n",
       " ('IT', 251)]"
      ]
     },
     "execution_count": 42,
     "metadata": {},
     "output_type": "execute_result"
    }
   ],
   "source": [
    "cntCopia.most_common(10)"
   ]
  },
  {
   "cell_type": "code",
   "execution_count": 45,
   "metadata": {},
   "outputs": [],
   "source": [
    "#Posso anche salvare più di una variabile sul file\n",
    "pickle.dump((cnt,cntCopia), open(\"moreVar.p\", \"wb\"))"
   ]
  },
  {
   "cell_type": "code",
   "execution_count": 46,
   "metadata": {},
   "outputs": [],
   "source": [
    "prova1, prova2 = pickle.load(open(\"moreVar.p\", \"rb\"))"
   ]
  },
  {
   "cell_type": "code",
   "execution_count": 50,
   "metadata": {},
   "outputs": [
    {
     "data": {
      "text/plain": [
       "[('THE', 1243),\n",
       " ('OF', 922),\n",
       " ('AND', 655),\n",
       " ('TO', 629),\n",
       " ('IN', 424),\n",
       " ('I', 397),\n",
       " ('THAT', 385),\n",
       " ('A', 381),\n",
       " ('IS', 370),\n",
       " ('IT', 251)]"
      ]
     },
     "execution_count": 50,
     "metadata": {},
     "output_type": "execute_result"
    }
   ],
   "source": [
    "prova1.most_common(10)"
   ]
  },
  {
   "cell_type": "code",
   "execution_count": 51,
   "metadata": {},
   "outputs": [
    {
     "data": {
      "text/plain": [
       "[('THE', 1243),\n",
       " ('OF', 922),\n",
       " ('AND', 655),\n",
       " ('TO', 629),\n",
       " ('IN', 424),\n",
       " ('I', 397),\n",
       " ('THAT', 385),\n",
       " ('A', 381),\n",
       " ('IS', 370),\n",
       " ('IT', 251)]"
      ]
     },
     "execution_count": 51,
     "metadata": {},
     "output_type": "execute_result"
    }
   ],
   "source": [
    "prova2.most_common(10)"
   ]
  },
  {
   "cell_type": "markdown",
   "metadata": {},
   "source": [
    "Modulo LOGGING. Permette di mandare messaggi all'utente tramite stringhe. La cosa interessante è che si può decidere a che livello l'utente può ascoltare il messaggio"
   ]
  },
  {
   "cell_type": "code",
   "execution_count": 52,
   "metadata": {},
   "outputs": [],
   "source": [
    "import logging"
   ]
  },
  {
   "cell_type": "code",
   "execution_count": 60,
   "metadata": {},
   "outputs": [],
   "source": [
    "def z():\n",
    "    logging.critical(\"Panik!\")\n",
    "    logging.warning(\"Attention!\")\n",
    "    logging.info(\"....\")\n",
    "    logging.debug(\"debug\")"
   ]
  },
  {
   "cell_type": "code",
   "execution_count": 64,
   "metadata": {},
   "outputs": [],
   "source": [
    "logging.getLogger().setLevel(logging.ERROR)\n",
    "#Setto il livello del logger in modo che si vedano solo alcune dei messaggi di errore"
   ]
  },
  {
   "cell_type": "code",
   "execution_count": 65,
   "metadata": {},
   "outputs": [
    {
     "name": "stderr",
     "output_type": "stream",
     "text": [
      "CRITICAL:root:Panik!\n"
     ]
    }
   ],
   "source": [
    "z()"
   ]
  },
  {
   "cell_type": "code",
   "execution_count": 67,
   "metadata": {},
   "outputs": [
    {
     "name": "stderr",
     "output_type": "stream",
     "text": [
      "CRITICAL:root:Panik!\n",
      "WARNING:root:Attention!\n",
      "INFO:root:....\n",
      "DEBUG:root:debug\n"
     ]
    }
   ],
   "source": [
    "logging.getLogger().setLevel(logging.DEBUG)\n",
    "#Setto il livello del logger in modo che si vedano tutti i messaggi di errore, altrimenti normalmente me ne fa vedere solo alcuni\n",
    "z()"
   ]
  },
  {
   "cell_type": "markdown",
   "metadata": {},
   "source": [
    "MODULO REGEX (RE SU python). Serve per fare operazioni avanzate su stringhe "
   ]
  },
  {
   "cell_type": "code",
   "execution_count": 70,
   "metadata": {},
   "outputs": [
    {
     "name": "stdout",
     "output_type": "stream",
     "text": [
      "None\n"
     ]
    }
   ],
   "source": [
    "import re\n",
    "\n",
    "ret = re.match(r'nni', 'Giovanni')\n",
    "print(ret)\n",
    "# La stringa che vado a cercare (in questo caso nni), deve essere uguale uguale uguale alla stringa che gli passo come secondo parametro"
   ]
  },
  {
   "cell_type": "code",
   "execution_count": 72,
   "metadata": {},
   "outputs": [
    {
     "name": "stdout",
     "output_type": "stream",
     "text": [
      "<_sre.SRE_Match object; span=(5, 8), match='nni'>\n",
      "Found\n"
     ]
    }
   ],
   "source": [
    "ret = re.search(r'nni', 'Giovanni')\n",
    "print(ret)\n",
    "if ret:\n",
    "    print(\"Found\")\n",
    "# La stringa che vado a cercare (in questo caso nni), deve essere contenuta all'interno della stringa che gli passo come secondo parametro\n",
    "# Lo posso usare per printare alcuni parametri in automatico, o costumizzare il messaggio in caso di ritrovamento della stringa"
   ]
  },
  {
   "cell_type": "code",
   "execution_count": null,
   "metadata": {},
   "outputs": [],
   "source": []
  }
 ],
 "metadata": {
  "kernelspec": {
   "display_name": "Python 3",
   "language": "python",
   "name": "python3"
  },
  "language_info": {
   "codemirror_mode": {
    "name": "ipython",
    "version": 3
   },
   "file_extension": ".py",
   "mimetype": "text/x-python",
   "name": "python",
   "nbconvert_exporter": "python",
   "pygments_lexer": "ipython3",
   "version": "3.6.4"
  }
 },
 "nbformat": 4,
 "nbformat_minor": 2
}
