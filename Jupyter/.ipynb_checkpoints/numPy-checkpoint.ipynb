{
 "cells": [
  {
   "cell_type": "code",
   "execution_count": 1,
   "metadata": {},
   "outputs": [],
   "source": [
    "import numpy as np"
   ]
  },
  {
   "cell_type": "code",
   "execution_count": 2,
   "metadata": {},
   "outputs": [
    {
     "name": "stdout",
     "output_type": "stream",
     "text": [
      "[(1, 2, 3), [4, 5, 6], [7, 8, 9], [10, 11, 12]]\n"
     ]
    }
   ],
   "source": [
    "data = [(1, 2, 3), [4, 5, 6], [7, 8, 9], [10, 11, 12]]\n",
    "print(data)"
   ]
  },
  {
   "cell_type": "code",
   "execution_count": 10,
   "metadata": {},
   "outputs": [
    {
     "name": "stdout",
     "output_type": "stream",
     "text": [
      "[[0, 1, 2], [3, 4, 5], [6, 7, 8], [9, 10, 11]]\n"
     ]
    }
   ],
   "source": [
    "righe = 4\n",
    "colonne = 3\n",
    "data = [[x for x in range(y, y + colonne)] for y in range(0, righe * colonne, colonne)]\n",
    "print(data)\n",
    "# si crea un lista di liste, che poi posso gestire come una matrice"
   ]
  },
  {
   "cell_type": "code",
   "execution_count": 9,
   "metadata": {},
   "outputs": [
    {
     "name": "stdout",
     "output_type": "stream",
     "text": [
      "[[ 0  1  2]\n",
      " [ 3  4  5]\n",
      " [ 6  7  8]\n",
      " [ 9 10 11]]\n"
     ]
    }
   ],
   "source": [
    "data2 = np.array(data) # è il tipo che usa la libreria numPy per visualizzare una matrice, da una lista di liste crea un array bidimensionale \n",
    "print(data2)"
   ]
  },
  {
   "cell_type": "code",
   "execution_count": 11,
   "metadata": {},
   "outputs": [
    {
     "name": "stdout",
     "output_type": "stream",
     "text": [
      "[[12 13 14]\n",
      " [15 16 17]\n",
      " [18 19 20]\n",
      " [21 22 23]]\n"
     ]
    }
   ],
   "source": [
    "# posso anche fare delle operazioni sulle matrici, semplicemente sommando i valori. Altrimenti facendo il più con la lista concatenerebbe i valori, qui li somma correttamente\n",
    "print(data2 + 12)"
   ]
  },
  {
   "cell_type": "code",
   "execution_count": 13,
   "metadata": {},
   "outputs": [
    {
     "data": {
      "text/plain": [
       "array([[  5,  14,  23,  32],\n",
       "       [ 14,  50,  86, 122],\n",
       "       [ 23,  86, 149, 212],\n",
       "       [ 32, 122, 212, 302]])"
      ]
     },
     "execution_count": 13,
     "metadata": {},
     "output_type": "execute_result"
    }
   ],
   "source": [
    "# con @ faccio la moltiplicazione tra matrici. Qui essendo le matrici non quadrate devo moltiplicare una matrice per la sua trasposta\n",
    "data2 @ data2.transpose()"
   ]
  },
  {
   "cell_type": "code",
   "execution_count": 16,
   "metadata": {},
   "outputs": [
    {
     "data": {
      "text/plain": [
       "(4, 3)"
      ]
     },
     "execution_count": 16,
     "metadata": {},
     "output_type": "execute_result"
    }
   ],
   "source": [
    "# tramite shape ottengo le dimensioni di una matrice\n",
    "data2.shape"
   ]
  },
  {
   "cell_type": "code",
   "execution_count": 25,
   "metadata": {},
   "outputs": [
    {
     "data": {
      "text/plain": [
       "array([[ 0,  1,  2,  3,  4,  5,  6,  7,  8,  9, 10, 11]])"
      ]
     },
     "execution_count": 25,
     "metadata": {},
     "output_type": "execute_result"
    }
   ],
   "source": [
    "# posso usare shape anche per modificare una matrice\n",
    "data3 = data2[:]\n",
    "data3.shape = (1, 12)\n",
    "data3"
   ]
  },
  {
   "cell_type": "code",
   "execution_count": 27,
   "metadata": {},
   "outputs": [
    {
     "data": {
      "text/plain": [
       "array([[ 0,  1,  2,  3,  4,  5,  6,  7,  8,  9, 10, 11]])"
      ]
     },
     "execution_count": 27,
     "metadata": {},
     "output_type": "execute_result"
    }
   ],
   "source": [
    "# lo faccio anche con la funzione reshape\n",
    "data3.reshape(1, 12)"
   ]
  },
  {
   "cell_type": "code",
   "execution_count": 32,
   "metadata": {},
   "outputs": [
    {
     "data": {
      "text/plain": [
       "array([[4.44386816, 4.66299281],\n",
       "       [5.9569913 , 1.94163705],\n",
       "       [5.1699429 , 1.4864489 ],\n",
       "       [6.02878719, 4.64738432],\n",
       "       [6.38447034, 1.22370744]])"
      ]
     },
     "execution_count": 32,
     "metadata": {},
     "output_type": "execute_result"
    }
   ],
   "source": [
    "# posso ottenere una matrice casuale di numeri attraverso la funzione random\n",
    "data4 = np.random.rand(5 ,2) * 10\n",
    "data4"
   ]
  },
  {
   "cell_type": "code",
   "execution_count": 39,
   "metadata": {},
   "outputs": [
    {
     "data": {
      "text/plain": [
       "[3, 7, 4, 9, 1, 5, 2, 0, 8, 6]"
      ]
     },
     "execution_count": 39,
     "metadata": {},
     "output_type": "execute_result"
    }
   ],
   "source": [
    "# posso modificare a caso i valori all'interno di una lista, ma si può fare su qualsiasi cosa\n",
    "a = list(range(10))\n",
    "np.random.shuffle(a)\n",
    "a"
   ]
  },
  {
   "cell_type": "code",
   "execution_count": 50,
   "metadata": {},
   "outputs": [
    {
     "data": {
      "text/plain": [
       "array([[ 0,  1,  2],\n",
       "       [ 9, 10, 11],\n",
       "       [ 3,  4,  5],\n",
       "       [ 6,  7,  8]])"
      ]
     },
     "execution_count": 50,
     "metadata": {},
     "output_type": "execute_result"
    }
   ],
   "source": [
    "data5 =data3.reshape(4,3)\n",
    "data5"
   ]
  },
  {
   "cell_type": "code",
   "execution_count": 51,
   "metadata": {},
   "outputs": [
    {
     "data": {
      "text/plain": [
       "array([[ 0,  1,  2],\n",
       "       [ 6,  7,  8],\n",
       "       [ 9, 10, 11],\n",
       "       [ 3,  4,  5]])"
      ]
     },
     "execution_count": 51,
     "metadata": {},
     "output_type": "execute_result"
    }
   ],
   "source": [
    "np.random.shuffle(data5)\n",
    "data5"
   ]
  },
  {
   "cell_type": "code",
   "execution_count": 53,
   "metadata": {},
   "outputs": [
    {
     "data": {
      "text/plain": [
       "array([ 9, 11])"
      ]
     },
     "execution_count": 53,
     "metadata": {},
     "output_type": "execute_result"
    }
   ],
   "source": [
    "data5[2, ::2]\n",
    "# [prende i valori della seconda riga, prende tutti valori:ne prende uno ogni 2]. Praticamente si può specificare il passo per cui prendere valori"
   ]
  },
  {
   "cell_type": "code",
   "execution_count": 74,
   "metadata": {},
   "outputs": [],
   "source": [
    "a = np.array(range(0, 27)).reshape((3, 3, 3))\n",
    "b = np.ones((3,3))"
   ]
  },
  {
   "cell_type": "code",
   "execution_count": 61,
   "metadata": {},
   "outputs": [
    {
     "data": {
      "text/plain": [
       "array([[[ 1.,  2.,  3.],\n",
       "        [ 4.,  5.,  6.],\n",
       "        [ 7.,  8.,  9.]],\n",
       "\n",
       "       [[10., 11., 12.],\n",
       "        [13., 14., 15.],\n",
       "        [16., 17., 18.]],\n",
       "\n",
       "       [[19., 20., 21.],\n",
       "        [22., 23., 24.],\n",
       "        [25., 26., 27.]]])"
      ]
     },
     "execution_count": 61,
     "metadata": {},
     "output_type": "execute_result"
    }
   ],
   "source": [
    "a+b\n",
    "# anche se b è una matrice in 2 dimensioni mentre a in 3, se è possibile, lui estende la matrice b in modo da essere sommata ad a.\n",
    "#ovviamente ci sono casi in cui non è possbile (tipo le dimensioni non hanno senso tra di loro, es. faccio b 6 x 7)"
   ]
  },
  {
   "cell_type": "code",
   "execution_count": 65,
   "metadata": {},
   "outputs": [
    {
     "name": "stdout",
     "output_type": "stream",
     "text": [
      "[[[False False False]\n",
      "  [False False False]\n",
      "  [False False False]]\n",
      "\n",
      " [[False False False]\n",
      "  [False False False]\n",
      "  [False  True  True]]\n",
      "\n",
      " [[ True  True  True]\n",
      "  [ True  True  True]\n",
      "  [ True  True  True]]]\n"
     ]
    }
   ],
   "source": [
    "print(a > 15)\n",
    "# posso usare l'array come se fosse un booleano"
   ]
  },
  {
   "cell_type": "code",
   "execution_count": 75,
   "metadata": {},
   "outputs": [
    {
     "data": {
      "text/plain": [
       "array([[[999,   1, 999],\n",
       "        [  3, 999,   5],\n",
       "        [999,   7, 999]],\n",
       "\n",
       "       [[  9, 999,  11],\n",
       "        [999,  13, 999],\n",
       "        [ 15, 999,  17]],\n",
       "\n",
       "       [[999,  19, 999],\n",
       "        [ 21, 999,  23],\n",
       "        [999,  25, 999]]])"
      ]
     },
     "execution_count": 75,
     "metadata": {},
     "output_type": "execute_result"
    }
   ],
   "source": [
    "a[a % 2 == 0] = 999\n",
    "a\n",
    "# ho preso tutti i numeri divisibili per 2 e gli ho messi uguale a 999, posso usare l'array come indice per scorrere la matrice e fare la verifica di alcune condizioni"
   ]
  },
  {
   "cell_type": "code",
   "execution_count": 79,
   "metadata": {},
   "outputs": [
    {
     "name": "stdout",
     "output_type": "stream",
     "text": [
      "524.2592592592592\n",
      "[559.44444444 451.22222222 562.11111111]\n"
     ]
    }
   ],
   "source": [
    "print(np.average(a))\n",
    "print(np.average(a, axis=(0,2)))\n",
    "# permette di calcolare la media dei valori interni ad un array"
   ]
  },
  {
   "cell_type": "code",
   "execution_count": 81,
   "metadata": {},
   "outputs": [
    {
     "data": {
      "text/plain": [
       "[999,\n",
       " 1,\n",
       " 999,\n",
       " 3,\n",
       " 999,\n",
       " 5,\n",
       " 999,\n",
       " 7,\n",
       " 999,\n",
       " 9,\n",
       " 999,\n",
       " 11,\n",
       " 999,\n",
       " 13,\n",
       " 999,\n",
       " 15,\n",
       " 999,\n",
       " 17,\n",
       " 999,\n",
       " 19,\n",
       " 999,\n",
       " 21,\n",
       " 999,\n",
       " 23,\n",
       " 999,\n",
       " 25,\n",
       " 999]"
      ]
     },
     "execution_count": 81,
     "metadata": {},
     "output_type": "execute_result"
    }
   ],
   "source": [
    "[x for x in a.flat]\n",
    "# flat è l'iteratore che permette di accedere a tutti i valori della matrice "
   ]
  },
  {
   "cell_type": "code",
   "execution_count": null,
   "metadata": {},
   "outputs": [],
   "source": []
  }
 ],
 "metadata": {
  "kernelspec": {
   "display_name": "Python 3",
   "language": "python",
   "name": "python3"
  },
  "language_info": {
   "codemirror_mode": {
    "name": "ipython",
    "version": 3
   },
   "file_extension": ".py",
   "mimetype": "text/x-python",
   "name": "python",
   "nbconvert_exporter": "python",
   "pygments_lexer": "ipython3",
   "version": "3.6.4"
  }
 },
 "nbformat": 4,
 "nbformat_minor": 2
}
