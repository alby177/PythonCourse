{
 "cells": [
  {
   "cell_type": "code",
   "execution_count": null,
   "metadata": {},
   "outputs": [],
   "source": [
    "def SoloPrimo(listaNumeri):\n",
    "    \"\"\"Questa funzione prende la lista che gli passo e cerca tutti i numeri non primi all'interno della funzione e li rimuove\"\"\"\n",
    "    i = 0\n",
    "    while i < len(listaNumeri):\n",
    "        nonPrimo = False\n",
    "        if (listaNumeri[i] < 2):\n",
    "            nonPrimo = True;\n",
    "        for n in range(2,listaNumeri[i],1):\n",
    "            if(listaNumeri[i]%n ==0):\n",
    "                nonPrimo = True\n",
    "                break\n",
    "        \n",
    "        if (nonPrimo == False):\n",
    "            i += 1  \n",
    "        else:\n",
    "            del listaNumeri[i]\n",
    "    return(listaNumeri)"
   ]
  },
  {
   "cell_type": "code",
   "execution_count": null,
   "metadata": {},
   "outputs": [],
   "source": [
    "def scompositore(num):\n",
    "    \"\"\"Scompone in fattori primi il numero passato come parametro\"\"\"\n",
    "    lista = []\n",
    "    i = 2\n",
    "    if num == 1:\n",
    "        lista.append(1)\n",
    "    while num > 1:\n",
    "        if num%i == 0:\n",
    "            num /= i\n",
    "            lista.append(i)\n",
    "        else:\n",
    "            i += 1\n",
    "    return tuple(lista)        \n",
    "\n",
    "def factors(listaNumeri):\n",
    "    \"\"\"Restiuisce una tupla di tuple con le scomposizioni in fattori\n",
    "    (8,7) -> ((2,2,2), (7,))\n",
    "    \"\"\"\n",
    "    res = []\n",
    "    for n in listaNumeri:\n",
    "        res.append(scompositore(n))\n",
    "    return tuple(res)        "
   ]
  },
  {
   "cell_type": "code",
   "execution_count": null,
   "metadata": {},
   "outputs": [],
   "source": [
    "[(x,y,x**y) for x in range(5) for y in range (5) if x > y]"
   ]
  },
  {
   "cell_type": "code",
   "execution_count": null,
   "metadata": {},
   "outputs": [],
   "source": [
    "[(x,y,x**y) for x in range(5) for y in range (5)]"
   ]
  },
  {
   "cell_type": "code",
   "execution_count": null,
   "metadata": {},
   "outputs": [],
   "source": [
    "[(x,y,x**y, \"{}**{}={}\".format(x,y,x**y)) for x in range(5) for y in range (5)]"
   ]
  },
  {
   "cell_type": "code",
   "execution_count": null,
   "metadata": {},
   "outputs": [],
   "source": [
    "def primo(num):\n",
    "    \"\"\"Funzione che identifca se un numero è primo o meno\"\"\"\n",
    "    if num < 2:\n",
    "        return False\n",
    "    for t in range(2, num // 2):\n",
    "        if num % t == 0:\n",
    "            return False\n",
    "    return True"
   ]
  },
  {
   "cell_type": "code",
   "execution_count": null,
   "metadata": {},
   "outputs": [],
   "source": [
    "def fibonacci(num):\n",
    "    \"\"\"Generatore che restituisce la funzioni di Fibonacci tra cui iterare\"\"\"\n",
    "    if num > 0:\n",
    "        yield 0\n",
    "    a, b = 0, 1\n",
    "    for _ in range(num - 1):\n",
    "        a, b = b, a + b\n",
    "        print(a)\n",
    "        yield a\n",
    "    "
   ]
  },
  {
   "cell_type": "code",
   "execution_count": null,
   "metadata": {},
   "outputs": [],
   "source": [
    "[f for f in fibonacci(10)]"
   ]
  },
  {
   "cell_type": "code",
   "execution_count": null,
   "metadata": {},
   "outputs": [],
   "source": [
    "[f for f in fibonacci(20) if primo(f)]"
   ]
  },
  {
   "cell_type": "code",
   "execution_count": null,
   "metadata": {},
   "outputs": [],
   "source": [
    "all(f < 100 for f in fibonacci(20))"
   ]
  },
  {
   "cell_type": "code",
   "execution_count": null,
   "metadata": {},
   "outputs": [],
   "source": [
    "#Costruzione dizionario tabellina, indice (x,y) con x e y in [0-10] e valore x*y\n",
    "tabellina = dict()\n",
    "for x in range(10):\n",
    "    for y in range (10):\n",
    "        tabellina[(x,y)] = x*y"
   ]
  },
  {
   "cell_type": "code",
   "execution_count": null,
   "metadata": {},
   "outputs": [],
   "source": [
    "tabellina = {(x,y): x*y for x in range(11) for y in range(11)}\n",
    "print(tabellina)\n",
    "# Stessa cosa di quella di prima, solo più pythonesco e più rapido"
   ]
  },
  {
   "cell_type": "code",
   "execution_count": null,
   "metadata": {},
   "outputs": [],
   "source": [
    "def scomposizione(sequenzaNumeri, scomposizioni_note=None):\n",
    "    \"\"\"Restituisce un dizionario con le scomposizioni note di tutti i numeri della sequenza\n",
    "    (Aggiunge al dizionario che gli passo le scomposizoini dei nuovi numeri, se già il numero c'è non fa la scomposizione)\n",
    "    \"\"\"\n",
    "    if not scomposizioni_note:\n",
    "        scomposizioni_note = dict()\n",
    "    for n in sequenzaNumeri:\n",
    "        if n in scomposizioni_note.keys():\n",
    "            print(\"Scomposizione già eseguita!\")\n",
    "            pass\n",
    "        else:\n",
    "            print(\"Eseguo scomposizione!\")\n",
    "            scomposizioni_note[n] = scompositore(n)\n",
    "    return scomposizioni_note"
   ]
  },
  {
   "cell_type": "code",
   "execution_count": null,
   "metadata": {},
   "outputs": [],
   "source": [
    "scomposizione([12,3,5,7])"
   ]
  },
  {
   "cell_type": "code",
   "execution_count": null,
   "metadata": {},
   "outputs": [],
   "source": [
    "dizionario = {7: (7,), 12: (2,2,3), 15: (5,3)}\n",
    "scomposizione([12,3,5,7], dizionario)"
   ]
  },
  {
   "cell_type": "markdown",
   "metadata": {},
   "source": [
    "Ricordarsi che in generale le variabili sono dei riferimenti, per cui se associo due variabili del tipo var2 = var1, modificando var2 modifico anche var1. \n",
    "Se però ad esemoio ho una lista, allora posso andare a salvare i valori usando lo slicing, quindi scrivo lista2 = lista1[:]. Così il valore viene direttamente salvato, quindi se modifico lista2 modifico solo lei"
   ]
  },
  {
   "cell_type": "code",
   "execution_count": null,
   "metadata": {},
   "outputs": [],
   "source": []
  }
 ],
 "metadata": {
  "kernelspec": {
   "display_name": "Python 3",
   "language": "python",
   "name": "python3"
  },
  "language_info": {
   "codemirror_mode": {
    "name": "ipython",
    "version": 3
   },
   "file_extension": ".py",
   "mimetype": "text/x-python",
   "name": "python",
   "nbconvert_exporter": "python",
   "pygments_lexer": "ipython3",
   "version": "3.6.4"
  }
 },
 "nbformat": 4,
 "nbformat_minor": 2
}
